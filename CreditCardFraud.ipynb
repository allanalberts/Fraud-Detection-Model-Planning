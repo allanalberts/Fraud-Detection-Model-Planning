{
 "cells": [
  {
   "cell_type": "markdown",
   "metadata": {},
   "source": [
    "### Questions:\n",
    "- how do I determine what sort of distribution my sample is associated with? Normal? Something else? See if skewed?\n",
    "- what test(s) should I use to determine population similarity or dis-similarity?\n"
   ]
  },
  {
   "cell_type": "markdown",
   "metadata": {},
   "source": [
    "### (project task 1 - intro) Build Dataset Overview Visialization\n",
    "chart containing both legit trans (area) and fraud trans(bar) over time utilizing different y-axis scales for the two groups of transactions."
   ]
  },
  {
   "cell_type": "markdown",
   "metadata": {},
   "source": [
    "### (project task 5 - goal 1) Build visualizations of fraud by dollar amount\n",
    "1. bar chart containing counts of fraud transactions (y-axis) and transaction amounts (x-axis)\n",
    "2. box plot comparing distribution of transaction amounts for fraud and non-fraud transactions."
   ]
  },
  {
   "cell_type": "markdown",
   "metadata": {},
   "source": [
    "### (project task 6 - goal 1) Write up analysis of fraud by dollar amount"
   ]
  },
  {
   "cell_type": "markdown",
   "metadata": {},
   "source": [
    "### (project task 7 - goal 1) Perform a one-sample exact test of a population proportion\n",
    "compare low dollar and higher dollar fraud\n",
    "need to bootstrap?"
   ]
  },
  {
   "cell_type": "markdown",
   "metadata": {},
   "source": [
    "### (project task 2 - goal 2) Build a bootstrap sample of fraud transactions"
   ]
  },
  {
   "cell_type": "markdown",
   "metadata": {},
   "source": [
    "### project task 3 - goal 2) Build an analysis using test? to measure extent of differences between fraud and non-fraud samples for each feature"
   ]
  },
  {
   "cell_type": "markdown",
   "metadata": {},
   "source": [
    "### (project task 4 - goal 2) Build a visualization comparing the difference in fraud non-fraud for each feature\n",
    "bar graph with diff on y-axis and features on x-axis with sort form most to least difference"
   ]
  },
  {
   "cell_type": "markdown",
   "metadata": {},
   "source": [
    "### (project task 8 - goal 3) - does fraud on day 2 distribution look like fraud on day 1\n",
    "does legit on day 2 look like legit on day 1  \n",
    "questions:\n",
    "- measure using same strategy as measuring high vs. low dollar fraud?\n",
    "- Do I need to look at each feature and see if there are major differences?"
   ]
  },
  {
   "cell_type": "markdown",
   "metadata": {},
   "source": [
    "### (project task 9 - closure) - write up of high level recommendations for building fraud detection model"
   ]
  },
  {
   "cell_type": "markdown",
   "metadata": {},
   "source": [
    "# Capstone 1: Fraud Detection Model Planning\n",
    "\n",
    "Managing the costs associated with credit card fraud is critical for merchant success. A precision-recall balance must be maintained between identifying and addressing fruad and limiting the impact on legitimate customers. This project focuses on the planning steps for creating a credit card fraud detection model that can be utilized by merchants to identify fraud and determine this balance.\n",
    "\n",
    "The datasets contains transactions made by credit cards in September 2013 by european cardholders.\n",
    "This dataset presents transactions that occurred in two days, where we have 492 frauds out of 284,807 transactions. The dataset is highly unbalanced, the positive class (frauds) account for 0.172% of all transactions. It contains 28 potential fraud prediction features which have been anomynized through a PCA dimensionality reduction transformation in order to maintain confidentiality of the data. \n",
    "\n",
    "This project has three goals:\n",
    "1.  Determine if multiple models are needed for detecting different variations of fraud.\n",
    "2.  Identify features that are most likely to influence a fraud detection model.\n",
    "3.  Estimate if training a model on Day 1 data will be sufficient for detecting fraud on Day2."
   ]
  },
  {
   "cell_type": "code",
   "execution_count": 13,
   "metadata": {},
   "outputs": [],
   "source": [
    "import numpy as np\n",
    "import pandas as pd\n",
    "\n",
    "import scipy.stats as stats\n",
    "\n",
    "import matplotlib.pyplot as plt\n",
    "%matplotlib inline\n",
    "import seaborn as sns"
   ]
  },
  {
   "cell_type": "code",
   "execution_count": 14,
   "metadata": {},
   "outputs": [],
   "source": [
    "data = pd.read_csv(\"data/creditcard.csv\")"
   ]
  },
  {
   "cell_type": "code",
   "execution_count": 15,
   "metadata": {},
   "outputs": [
    {
     "name": "stdout",
     "output_type": "stream",
     "text": [
      "<class 'pandas.core.frame.DataFrame'>\n",
      "RangeIndex: 284807 entries, 0 to 284806\n",
      "Data columns (total 31 columns):\n",
      " #   Column  Non-Null Count   Dtype  \n",
      "---  ------  --------------   -----  \n",
      " 0   Time    284807 non-null  float64\n",
      " 1   V1      284807 non-null  float64\n",
      " 2   V2      284807 non-null  float64\n",
      " 3   V3      284807 non-null  float64\n",
      " 4   V4      284807 non-null  float64\n",
      " 5   V5      284807 non-null  float64\n",
      " 6   V6      284807 non-null  float64\n",
      " 7   V7      284807 non-null  float64\n",
      " 8   V8      284807 non-null  float64\n",
      " 9   V9      284807 non-null  float64\n",
      " 10  V10     284807 non-null  float64\n",
      " 11  V11     284807 non-null  float64\n",
      " 12  V12     284807 non-null  float64\n",
      " 13  V13     284807 non-null  float64\n",
      " 14  V14     284807 non-null  float64\n",
      " 15  V15     284807 non-null  float64\n",
      " 16  V16     284807 non-null  float64\n",
      " 17  V17     284807 non-null  float64\n",
      " 18  V18     284807 non-null  float64\n",
      " 19  V19     284807 non-null  float64\n",
      " 20  V20     284807 non-null  float64\n",
      " 21  V21     284807 non-null  float64\n",
      " 22  V22     284807 non-null  float64\n",
      " 23  V23     284807 non-null  float64\n",
      " 24  V24     284807 non-null  float64\n",
      " 25  V25     284807 non-null  float64\n",
      " 26  V26     284807 non-null  float64\n",
      " 27  V27     284807 non-null  float64\n",
      " 28  V28     284807 non-null  float64\n",
      " 29  Amount  284807 non-null  float64\n",
      " 30  Class   284807 non-null  int64  \n",
      "dtypes: float64(30), int64(1)\n",
      "memory usage: 67.4 MB\n"
     ]
    }
   ],
   "source": [
    "data.info()"
   ]
  },
  {
   "cell_type": "markdown",
   "metadata": {},
   "source": [
    "### Data Wrangling\n",
    "Make Date field using the assumption that dataset starts at midnight on Sept 1, 2013"
   ]
  },
  {
   "cell_type": "code",
   "execution_count": 16,
   "metadata": {},
   "outputs": [],
   "source": [
    "# data['Date'] = pd.Timestamp('2013-09-01 00:00:00') + data['Time'].apply(pd.offsets.Second)"
   ]
  },
  {
   "cell_type": "code",
   "execution_count": 17,
   "metadata": {},
   "outputs": [],
   "source": [
    "Features = ['V%d' % n for n in range(1, 29)]\n",
    "data = data[['Class', 'Amount', 'Time'] + Features]"
   ]
  },
  {
   "cell_type": "code",
   "execution_count": 18,
   "metadata": {},
   "outputs": [
    {
     "data": {
      "text/html": [
       "<div>\n",
       "<style scoped>\n",
       "    .dataframe tbody tr th:only-of-type {\n",
       "        vertical-align: middle;\n",
       "    }\n",
       "\n",
       "    .dataframe tbody tr th {\n",
       "        vertical-align: top;\n",
       "    }\n",
       "\n",
       "    .dataframe thead th {\n",
       "        text-align: right;\n",
       "    }\n",
       "</style>\n",
       "<table border=\"1\" class=\"dataframe\">\n",
       "  <thead>\n",
       "    <tr style=\"text-align: right;\">\n",
       "      <th></th>\n",
       "      <th>Class</th>\n",
       "      <th>Amount</th>\n",
       "      <th>Time</th>\n",
       "      <th>V1</th>\n",
       "      <th>V2</th>\n",
       "      <th>V3</th>\n",
       "      <th>V4</th>\n",
       "      <th>V5</th>\n",
       "      <th>V6</th>\n",
       "      <th>V7</th>\n",
       "      <th>...</th>\n",
       "      <th>V19</th>\n",
       "      <th>V20</th>\n",
       "      <th>V21</th>\n",
       "      <th>V22</th>\n",
       "      <th>V23</th>\n",
       "      <th>V24</th>\n",
       "      <th>V25</th>\n",
       "      <th>V26</th>\n",
       "      <th>V27</th>\n",
       "      <th>V28</th>\n",
       "    </tr>\n",
       "  </thead>\n",
       "  <tbody>\n",
       "    <tr>\n",
       "      <th>0</th>\n",
       "      <td>0</td>\n",
       "      <td>149.62</td>\n",
       "      <td>0.0</td>\n",
       "      <td>-1.359807</td>\n",
       "      <td>-0.072781</td>\n",
       "      <td>2.536347</td>\n",
       "      <td>1.378155</td>\n",
       "      <td>-0.338321</td>\n",
       "      <td>0.462388</td>\n",
       "      <td>0.239599</td>\n",
       "      <td>...</td>\n",
       "      <td>0.403993</td>\n",
       "      <td>0.251412</td>\n",
       "      <td>-0.018307</td>\n",
       "      <td>0.277838</td>\n",
       "      <td>-0.110474</td>\n",
       "      <td>0.066928</td>\n",
       "      <td>0.128539</td>\n",
       "      <td>-0.189115</td>\n",
       "      <td>0.133558</td>\n",
       "      <td>-0.021053</td>\n",
       "    </tr>\n",
       "    <tr>\n",
       "      <th>1</th>\n",
       "      <td>0</td>\n",
       "      <td>2.69</td>\n",
       "      <td>0.0</td>\n",
       "      <td>1.191857</td>\n",
       "      <td>0.266151</td>\n",
       "      <td>0.166480</td>\n",
       "      <td>0.448154</td>\n",
       "      <td>0.060018</td>\n",
       "      <td>-0.082361</td>\n",
       "      <td>-0.078803</td>\n",
       "      <td>...</td>\n",
       "      <td>-0.145783</td>\n",
       "      <td>-0.069083</td>\n",
       "      <td>-0.225775</td>\n",
       "      <td>-0.638672</td>\n",
       "      <td>0.101288</td>\n",
       "      <td>-0.339846</td>\n",
       "      <td>0.167170</td>\n",
       "      <td>0.125895</td>\n",
       "      <td>-0.008983</td>\n",
       "      <td>0.014724</td>\n",
       "    </tr>\n",
       "    <tr>\n",
       "      <th>2</th>\n",
       "      <td>0</td>\n",
       "      <td>378.66</td>\n",
       "      <td>1.0</td>\n",
       "      <td>-1.358354</td>\n",
       "      <td>-1.340163</td>\n",
       "      <td>1.773209</td>\n",
       "      <td>0.379780</td>\n",
       "      <td>-0.503198</td>\n",
       "      <td>1.800499</td>\n",
       "      <td>0.791461</td>\n",
       "      <td>...</td>\n",
       "      <td>-2.261857</td>\n",
       "      <td>0.524980</td>\n",
       "      <td>0.247998</td>\n",
       "      <td>0.771679</td>\n",
       "      <td>0.909412</td>\n",
       "      <td>-0.689281</td>\n",
       "      <td>-0.327642</td>\n",
       "      <td>-0.139097</td>\n",
       "      <td>-0.055353</td>\n",
       "      <td>-0.059752</td>\n",
       "    </tr>\n",
       "    <tr>\n",
       "      <th>3</th>\n",
       "      <td>0</td>\n",
       "      <td>123.50</td>\n",
       "      <td>1.0</td>\n",
       "      <td>-0.966272</td>\n",
       "      <td>-0.185226</td>\n",
       "      <td>1.792993</td>\n",
       "      <td>-0.863291</td>\n",
       "      <td>-0.010309</td>\n",
       "      <td>1.247203</td>\n",
       "      <td>0.237609</td>\n",
       "      <td>...</td>\n",
       "      <td>-1.232622</td>\n",
       "      <td>-0.208038</td>\n",
       "      <td>-0.108300</td>\n",
       "      <td>0.005274</td>\n",
       "      <td>-0.190321</td>\n",
       "      <td>-1.175575</td>\n",
       "      <td>0.647376</td>\n",
       "      <td>-0.221929</td>\n",
       "      <td>0.062723</td>\n",
       "      <td>0.061458</td>\n",
       "    </tr>\n",
       "    <tr>\n",
       "      <th>4</th>\n",
       "      <td>0</td>\n",
       "      <td>69.99</td>\n",
       "      <td>2.0</td>\n",
       "      <td>-1.158233</td>\n",
       "      <td>0.877737</td>\n",
       "      <td>1.548718</td>\n",
       "      <td>0.403034</td>\n",
       "      <td>-0.407193</td>\n",
       "      <td>0.095921</td>\n",
       "      <td>0.592941</td>\n",
       "      <td>...</td>\n",
       "      <td>0.803487</td>\n",
       "      <td>0.408542</td>\n",
       "      <td>-0.009431</td>\n",
       "      <td>0.798278</td>\n",
       "      <td>-0.137458</td>\n",
       "      <td>0.141267</td>\n",
       "      <td>-0.206010</td>\n",
       "      <td>0.502292</td>\n",
       "      <td>0.219422</td>\n",
       "      <td>0.215153</td>\n",
       "    </tr>\n",
       "  </tbody>\n",
       "</table>\n",
       "<p>5 rows × 31 columns</p>\n",
       "</div>"
      ],
      "text/plain": [
       "   Class  Amount  Time        V1        V2        V3        V4        V5  \\\n",
       "0      0  149.62   0.0 -1.359807 -0.072781  2.536347  1.378155 -0.338321   \n",
       "1      0    2.69   0.0  1.191857  0.266151  0.166480  0.448154  0.060018   \n",
       "2      0  378.66   1.0 -1.358354 -1.340163  1.773209  0.379780 -0.503198   \n",
       "3      0  123.50   1.0 -0.966272 -0.185226  1.792993 -0.863291 -0.010309   \n",
       "4      0   69.99   2.0 -1.158233  0.877737  1.548718  0.403034 -0.407193   \n",
       "\n",
       "         V6        V7  ...       V19       V20       V21       V22       V23  \\\n",
       "0  0.462388  0.239599  ...  0.403993  0.251412 -0.018307  0.277838 -0.110474   \n",
       "1 -0.082361 -0.078803  ... -0.145783 -0.069083 -0.225775 -0.638672  0.101288   \n",
       "2  1.800499  0.791461  ... -2.261857  0.524980  0.247998  0.771679  0.909412   \n",
       "3  1.247203  0.237609  ... -1.232622 -0.208038 -0.108300  0.005274 -0.190321   \n",
       "4  0.095921  0.592941  ...  0.803487  0.408542 -0.009431  0.798278 -0.137458   \n",
       "\n",
       "        V24       V25       V26       V27       V28  \n",
       "0  0.066928  0.128539 -0.189115  0.133558 -0.021053  \n",
       "1 -0.339846  0.167170  0.125895 -0.008983  0.014724  \n",
       "2 -0.689281 -0.327642 -0.139097 -0.055353 -0.059752  \n",
       "3 -1.175575  0.647376 -0.221929  0.062723  0.061458  \n",
       "4  0.141267 -0.206010  0.502292  0.219422  0.215153  \n",
       "\n",
       "[5 rows x 31 columns]"
      ]
     },
     "execution_count": 18,
     "metadata": {},
     "output_type": "execute_result"
    }
   ],
   "source": [
    "data.head()"
   ]
  },
  {
   "cell_type": "markdown",
   "metadata": {},
   "source": [
    "### task 1 - intro) Build Dataset Overview Visialization"
   ]
  },
  {
   "cell_type": "code",
   "execution_count": 19,
   "metadata": {},
   "outputs": [
    {
     "name": "stderr",
     "output_type": "stream",
     "text": [
      "/Users/allanalberts/opt/anaconda3/lib/python3.7/site-packages/ipykernel_launcher.py:3: SettingWithCopyWarning: \n",
      "A value is trying to be set on a copy of a slice from a DataFrame.\n",
      "Try using .loc[row_indexer,col_indexer] = value instead\n",
      "\n",
      "See the caveats in the documentation: https://pandas.pydata.org/pandas-docs/stable/user_guide/indexing.html#returning-a-view-versus-a-copy\n",
      "  This is separate from the ipykernel package so we can avoid doing imports until\n"
     ]
    }
   ],
   "source": [
    "# create a timeseries dataframe with Amount data called trends\n",
    "trends = data[['Time','Amount','Class']]\n",
    "trends['TimeSeries'] = pd.to_datetime(trends.Time, unit='s', origin='2013-09-01')\n",
    "trends.set_index('TimeSeries', drop=False, inplace=True)"
   ]
  },
  {
   "cell_type": "code",
   "execution_count": 63,
   "metadata": {},
   "outputs": [],
   "source": [
    "fraud = trends[(trends.Class==1)][['Amount']].resample('H').count().dropna()\n",
    "fraud.columns = ['Trans_cnt']\n",
    "legit = trends[(trends.Class==0)][['Amount']].resample('H').count().dropna()\n",
    "legit.columns = ['Trans_cnt']"
   ]
  },
  {
   "cell_type": "code",
   "execution_count": 71,
   "metadata": {},
   "outputs": [
    {
     "data": {
      "image/png": "[encoded data removed]",
      "text/plain": [
       "<Figure size 864x288 with 2 Axes>"
      ]
     },
     "metadata": {
      "needs_background": "light"
     },
     "output_type": "display_data"
    }
   ],
   "source": [
    "fig, ax = plt.subplots(figsize = (12,4))\n",
    "fraud['Trans_cnt'].plot(color='r', kind='area', alpha=0.5, label='Fraud Transactions')\n",
    "legit['Trans_cnt'].plot(secondary_y=True, color='b', label='Sales Transactions')\n",
    "ax.set_ylabel('Fraud Count', color='r');\n",
    "ax.tick_params(axis='y', colors='red')\n",
    "plt.ylabel('Sales Count', color='b');\n",
    "plt.yticks(color='b')\n",
    "plt.axvline(x='2013-09-02 00:00:00', color='black', linestyle='dashed')\n",
    "plt.legend(frameon=False, loc='upper right');\n",
    "plt.title('Transaction Counts by hour', color='black');\n",
    "plt.savefig('intro_fig.png')"
   ]
  },
  {
   "cell_type": "markdown",
   "metadata": {},
   "source": [
    "### EDA: Amount Field (fraud vs non-fraud)"
   ]
  },
  {
   "cell_type": "code",
   "execution_count": 18,
   "metadata": {},
   "outputs": [
    {
     "data": {
      "text/html": [
       "<div>\n",
       "<style scoped>\n",
       "    .dataframe tbody tr th:only-of-type {\n",
       "        vertical-align: middle;\n",
       "    }\n",
       "\n",
       "    .dataframe tbody tr th {\n",
       "        vertical-align: top;\n",
       "    }\n",
       "\n",
       "    .dataframe thead th {\n",
       "        text-align: right;\n",
       "    }\n",
       "</style>\n",
       "<table border=\"1\" class=\"dataframe\">\n",
       "  <thead>\n",
       "    <tr style=\"text-align: right;\">\n",
       "      <th></th>\n",
       "      <th>count</th>\n",
       "      <th>mean</th>\n",
       "      <th>std</th>\n",
       "      <th>min</th>\n",
       "      <th>25%</th>\n",
       "      <th>50%</th>\n",
       "      <th>75%</th>\n",
       "      <th>max</th>\n",
       "    </tr>\n",
       "    <tr>\n",
       "      <th>Class</th>\n",
       "      <th></th>\n",
       "      <th></th>\n",
       "      <th></th>\n",
       "      <th></th>\n",
       "      <th></th>\n",
       "      <th></th>\n",
       "      <th></th>\n",
       "      <th></th>\n",
       "    </tr>\n",
       "  </thead>\n",
       "  <tbody>\n",
       "    <tr>\n",
       "      <th>0</th>\n",
       "      <td>284315.0</td>\n",
       "      <td>88.291022</td>\n",
       "      <td>250.105092</td>\n",
       "      <td>0.0</td>\n",
       "      <td>5.65</td>\n",
       "      <td>22.00</td>\n",
       "      <td>77.05</td>\n",
       "      <td>25691.16</td>\n",
       "    </tr>\n",
       "    <tr>\n",
       "      <th>1</th>\n",
       "      <td>492.0</td>\n",
       "      <td>122.211321</td>\n",
       "      <td>256.683288</td>\n",
       "      <td>0.0</td>\n",
       "      <td>1.00</td>\n",
       "      <td>9.25</td>\n",
       "      <td>105.89</td>\n",
       "      <td>2125.87</td>\n",
       "    </tr>\n",
       "  </tbody>\n",
       "</table>\n",
       "</div>"
      ],
      "text/plain": [
       "          count        mean         std  min   25%    50%     75%       max\n",
       "Class                                                                      \n",
       "0      284315.0   88.291022  250.105092  0.0  5.65  22.00   77.05  25691.16\n",
       "1         492.0  122.211321  256.683288  0.0  1.00   9.25  105.89   2125.87"
      ]
     },
     "execution_count": 18,
     "metadata": {},
     "output_type": "execute_result"
    }
   ],
   "source": [
    "data.groupby('Class')['Amount'].describe()"
   ]
  },
  {
   "cell_type": "code",
   "execution_count": 60,
   "metadata": {},
   "outputs": [
    {
     "data": {
      "text/plain": [
       "[(0.0, 20.0)]"
      ]
     },
     "execution_count": 60,
     "metadata": {},
     "output_type": "execute_result"
    },
    {
     "data": {
      "image/png": "[encoded data removed]",
      "text/plain": [
       "<Figure size 1008x288 with 2 Axes>"
      ]
     },
     "metadata": {
      "needs_background": "light"
     },
     "output_type": "display_data"
    }
   ],
   "source": [
    "fig, axs = plt.subplots(1,2, figsize=(14,4))\n",
    "sns.boxplot(ax=axs[0], x=\"Class\", y=\"Amount\", data=data)\n",
    "axs[0].set(ylim=(0, 400))\n",
    "axs[0].set_xticklabels({0:'Non-Fraud', 1:'Fraud'})\n",
    "axs[0].xticklabels=['Non-Fraud', 'Fraud']\n",
    "\n",
    "sns.boxplot(ax=axs[1], x=\"Class\", y=\"Amount\", data=data)\n",
    "axs[1].set(ylim=(0, 20))"
   ]
  },
  {
   "cell_type": "code",
   "execution_count": null,
   "metadata": {},
   "outputs": [],
   "source": [
    "fig, ax = plt.subplots(figsize=(12,3))\n",
    "data[(data['Class']==1) & (data['Amount']<=100)]['Amount'].hist(bins=100)\n",
    "_ = ax.set_title(\"Count of Fraud Transactions at or below $100\")"
   ]
  },
  {
   "cell_type": "markdown",
   "metadata": {},
   "source": [
    "### Time Series Graph"
   ]
  },
  {
   "cell_type": "code",
   "execution_count": null,
   "metadata": {},
   "outputs": [],
   "source": [
    "data.groupby('Class')[['V1']].count()"
   ]
  },
  {
   "cell_type": "code",
   "execution_count": null,
   "metadata": {},
   "outputs": [],
   "source": [
    "\n",
    "data[data['Class']==1]['Amount'].describe()"
   ]
  },
  {
   "cell_type": "code",
   "execution_count": null,
   "metadata": {},
   "outputs": [],
   "source": [
    "data[data['Class']==0]['Amount'].describe()"
   ]
  },
  {
   "cell_type": "code",
   "execution_count": null,
   "metadata": {},
   "outputs": [],
   "source": [
    "# make new boolean fields that are fraud and non-fraud and use describe on them to compare quartiles in one frame"
   ]
  },
  {
   "cell_type": "code",
   "execution_count": null,
   "metadata": {},
   "outputs": [],
   "source": [
    "data[(data['Class']==1) & (data['Amount']<10)]['Amount'].hist(bins=20)"
   ]
  },
  {
   "cell_type": "code",
   "execution_count": null,
   "metadata": {},
   "outputs": [],
   "source": [
    "data[(data['Class']==1) & (data['Amount']<=10)]['Amount'].hist(bins=40, figsize=(12,4))"
   ]
  },
  {
   "cell_type": "code",
   "execution_count": null,
   "metadata": {},
   "outputs": [],
   "source": [
    "data[(data['Amount']<2)]['Amount'].count()"
   ]
  },
  {
   "cell_type": "code",
   "execution_count": null,
   "metadata": {},
   "outputs": [],
   "source": [
    "data[(data['Class']==1) & (data['Amount']<2)]['Amount'].count()"
   ]
  },
  {
   "cell_type": "code",
   "execution_count": null,
   "metadata": {},
   "outputs": [],
   "source": [
    "data['Amt Group'] = np.where(data['Amount']>1,'High','Low') "
   ]
  },
  {
   "cell_type": "code",
   "execution_count": null,
   "metadata": {},
   "outputs": [],
   "source": [
    "print(f\"Low dollar fraud rate: {data[data['Amt Group']=='Low']['Class'].mean()}\")\n",
    "print(f\"High dollar fraud rate: {data[data['Amt Group']=='High']['Class'].mean()}\")"
   ]
  },
  {
   "cell_type": "code",
   "execution_count": null,
   "metadata": {},
   "outputs": [],
   "source": [
    "HighDollarFraudRate = 0.0012228928690796847\n",
    "binomial = stats.binom(46990, 0.0012228928690796847)\n",
    "print(1-binomial.cdf(195))\n"
   ]
  },
  {
   "cell_type": "code",
   "execution_count": null,
   "metadata": {},
   "outputs": [],
   "source": [
    "        age_group_1_ctr = df_signed_in[df_signed_in.age_groups == age_group_1]['CTR']\n",
    "        age_group_2_ctr = df_signed_in[df_signed_in.age_groups == age_group_2]['CTR']\n",
    "        p_value = stats.ttest_ind(age_group_1_ctr, age_group_2_ctr, equal_var=True)[1]"
   ]
  },
  {
   "cell_type": "code",
   "execution_count": null,
   "metadata": {},
   "outputs": [],
   "source": [
    "fraud_grp_v1 = data[data['Class']==1]['V8']\n",
    "non_fraud_grp_v1 = data[data['Class']==0]['V8']\n",
    "#p_value = stats.ttest_ind(fraud_grp_v1, non_fraud_grp_v1, equal_var=True)[1]\n",
    "\n",
    "stat, p_val = stats.ttest_ind(fraud_grp_v1, non_fraud_grp_v1, equal_var=True)\n",
    "print('The statistic is: {} \\nP-value: {}'.format(stat ,p_val))\n",
    "\n",
    "stat, p_val = stats.ttest_ind(fraud_grp_v1, non_fraud_grp_v1, equal_var=False)\n",
    "print('The statistic is: {} \\nP-value: {}'.format(stat ,p_val))"
   ]
  },
  {
   "cell_type": "code",
   "execution_count": null,
   "metadata": {},
   "outputs": [],
   "source": [
    "non_fraud_grp_v1.head()"
   ]
  },
  {
   "cell_type": "code",
   "execution_count": null,
   "metadata": {},
   "outputs": [],
   "source": [
    "data.groupby('Class')[['V1']].count()"
   ]
  },
  {
   "cell_type": "code",
   "execution_count": null,
   "metadata": {},
   "outputs": [],
   "source": [
    "data.info()\n"
   ]
  },
  {
   "cell_type": "code",
   "execution_count": null,
   "metadata": {},
   "outputs": [],
   "source": [
    "data['Date'] = pd.to_datetime(data['Time'])"
   ]
  },
  {
   "cell_type": "code",
   "execution_count": null,
   "metadata": {},
   "outputs": [],
   "source": [
    "data[['Time','Date']].tail()"
   ]
  },
  {
   "cell_type": "code",
   "execution_count": null,
   "metadata": {},
   "outputs": [],
   "source": [
    "data['Time'].agg(['min', 'max'])"
   ]
  },
  {
   "cell_type": "code",
   "execution_count": null,
   "metadata": {},
   "outputs": [],
   "source": [
    "data['Time'].max()/3600"
   ]
  },
  {
   "cell_type": "markdown",
   "metadata": {},
   "source": [
    "## Bootstrap Fraud Sample"
   ]
  },
  {
   "cell_type": "code",
   "execution_count": 70,
   "metadata": {},
   "outputs": [],
   "source": [
    "#import scikits.bootstrap as sci\n",
    "# fraud_cnt = data[data['Class']==1].shape[0]\n",
    "# nonfraud_cnt = data[data['Class']==0]['Time'].shape[0]\n",
    "# record_ratio = round(nonfraud_cnt/fraud_cnt)\n",
    "# print(f'Ratio NonFraud to Fraud: {record_ratio}:1')\n",
    "\n",
    "df_fraud = data[data['Class']==1]\n",
    "df_bootstrap_mean = pd.DataFrame(columns=df_fraud.columns)\n",
    "df_bootstrap_std = pd.DataFrame(columns=df_fraud.columns)\n",
    "df_bootstrap_median = pd.DataFrame(columns=df_fraud.columns)\n",
    "\n",
    "samples = 5000\n",
    "for _ in range(samples):\n",
    "    bootstrap = fraud_data.sample(n=len(fraud_data), replace=True, axis=0, random_state=1111)\n",
    "    df_bootstrap_mean = df_bootstrap_mean.append(bootstrap.mean(), ignore_index=True)\n",
    "    df_bootstrap_std = df_bootstrap_std.append(bootstrap.std(), ignore_index=True)\n",
    "    df_bootstrap_median = df_bootstrap_median.append(bootstrap.median(), ignore_index=True)\n",
    "bootstrap_mean = df_bootstrap_mean.mean()\n",
    "bootstrap_std = df_bootstrap_std.mean()\n",
    "bootstrap_median = df_bootstrap_median.mean()"
   ]
  },
  {
   "cell_type": "code",
   "execution_count": 71,
   "metadata": {},
   "outputs": [
    {
     "name": "stdout",
     "output_type": "stream",
     "text": [
      "Time      78336.384146\n",
      "V1           -4.679683\n",
      "V2            3.496605\n",
      "V3           -6.859388\n",
      "V4            4.463743\n",
      "V5           -2.956782\n",
      "V6           -1.387230\n",
      "V7           -5.516175\n",
      "V8            0.463973\n",
      "V9           -2.526932\n",
      "V10          -5.569530\n",
      "V11           3.717819\n",
      "V12          -6.001943\n",
      "V13          -0.142305\n",
      "V14          -6.813321\n",
      "V15          -0.055208\n",
      "V16          -3.962919\n",
      "V17          -6.318586\n",
      "V18          -2.103766\n",
      "V19           0.633301\n",
      "V20           0.437634\n",
      "V21           0.471232\n",
      "V22           0.063724\n",
      "V23          -0.039214\n",
      "V24          -0.120506\n",
      "V25           0.046576\n",
      "V26           0.047478\n",
      "V27           0.278541\n",
      "V28           0.067567\n",
      "Amount      113.105671\n",
      "Class         1.000000\n",
      "dtype: float64\n",
      "Time      80746.806911\n",
      "V1           -4.771948\n",
      "V2            3.623778\n",
      "V3           -7.033281\n",
      "V4            4.542029\n",
      "V5           -3.151225\n",
      "V6           -1.397737\n",
      "V7           -5.568731\n",
      "V8            0.570636\n",
      "V9           -2.581123\n",
      "V10          -5.676883\n",
      "V11           3.800173\n",
      "V12          -6.259393\n",
      "V13          -0.109334\n",
      "V14          -6.971723\n",
      "V15          -0.092929\n",
      "V16          -4.139946\n",
      "V17          -6.665836\n",
      "V18          -2.246308\n",
      "V19           0.680659\n",
      "V20           0.372319\n",
      "V21           0.713588\n",
      "V22           0.014049\n",
      "V23          -0.040308\n",
      "V24          -0.105130\n",
      "V25           0.041449\n",
      "V26           0.051648\n",
      "V27           0.170575\n",
      "V28           0.075667\n",
      "Amount      122.211321\n",
      "Class         1.000000\n",
      "dtype: float64\n"
     ]
    }
   ],
   "source": [
    "print(bootstrap_mean)\n",
    "print(df_fraud.mean())"
   ]
  },
  {
   "cell_type": "code",
   "execution_count": null,
   "metadata": {},
   "outputs": [],
   "source": []
  },
  {
   "cell_type": "markdown",
   "metadata": {},
   "source": [
    "# Initial Capstone Proposal\n",
    "Capstone 1: Credit Card Fraud Detection - Part 1\n",
    "\n",
    "The data set is highly imbalanced containing 492 fraud transaction and 284K non-fraud transactions. This is similar to real world fraud data. I will **bootstrap** the fraud transaction samples to obtain a better description of the fraud population which will then be used to compare fraud detection features against the non fraud sample with a goal of identifying the features that are least similar between the datasets. These features can then be used in a second Capstone to predict the likelihood of fraud. I will compare features between the fraud and non-fraud groups utilizing **non parametric t-tests**.\n",
    "\n",
    "The dataset contains time, amount and 28 individual transaction features for 284,807 credit card transactions that occurred over a 2 day period of time. The transactions features in the dataset have been anomynized using PCA so there is no 'real world' intuition or bias that can be brought to analysis of the effectiveness of using these features to predict fraud. However, some relevant insight can be gained from the amount field.\n",
    "\n",
    "A cursory analysis of the fraud sample shows that 25% of the fraud transactions are at or below one dollar. Transactions at this low dollar level are serving a separate fraud purpose than the higher dollar transactions. These low dollar transaction are not being effectively monitized, but rather simply testing the ability of the credit card to be used in a larger fraud. I will use a **one-sample exact test of a population proportion** to deterine if their exists a statistical difference in the mean fraud rates between the transactions that are equal to or less than one dollar and those that are above that amount. If a difference is found, then I may consider splitting the data into two groups for separate predictive analysis in Capstone 2 as they are related to different types of fraudulent behavior. "
   ]
  },
  {
   "cell_type": "markdown",
   "metadata": {},
   "source": [
    "### notes for me:\n",
    "More details on current and past projects on related topics are available on https://www.researchgate.net/project/Fraud-detection-5 and the page of the DefeatFraud project"
   ]
  }
 ],
 "metadata": {
  "kernelspec": {
   "display_name": "Python 3",
   "language": "python",
   "name": "python3"
  },
  "language_info": {
   "codemirror_mode": {
    "name": "ipython",
    "version": 3
   },
   "file_extension": ".py",
   "mimetype": "text/x-python",
   "name": "python",
   "nbconvert_exporter": "python",
   "pygments_lexer": "ipython3",
   "version": "3.7.9"
  }
 },
 "nbformat": 4,
 "nbformat_minor": 4
}
