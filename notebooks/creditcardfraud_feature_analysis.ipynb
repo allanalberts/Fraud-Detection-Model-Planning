{
 "cells": [
  {
   "cell_type": "markdown",
   "metadata": {},
   "source": [
    "# Feature Analysis"
   ]
  },
  {
   "cell_type": "code",
   "execution_count": 21,
   "metadata": {},
   "outputs": [],
   "source": [
    "import helpers as h\n",
    "import numpy as np\n",
    "import pandas as pd\n",
    "\n",
    "import scipy.stats as stats\n",
    "\n",
    "import matplotlib.pyplot as plt\n",
    "%matplotlib inline\n",
    "import seaborn as sns\n",
    "\n",
    "data = pd.read_csv(\"../data/creditcard.csv\")\n",
    "Features = ['V%d' % n for n in range(1, 29)]\n",
    "df_fraud = data[data['Class']==1]\n",
    "df_legit = data[data['Class']==0]"
   ]
  },
  {
   "cell_type": "markdown",
   "metadata": {},
   "source": [
    "### Helper Functions"
   ]
  },
  {
   "cell_type": "code",
   "execution_count": null,
   "metadata": {},
   "outputs": [],
   "source": [
    "def bootstrap_mean(df, statistic, samples=500):\n",
    "    \"\"\"\n",
    "    Returns an pandas series of mean bootstrap values for the statistic\n",
    "    for each of the columns in the dataframe.\n",
    "\n",
    "    Parameters\n",
    "    ----------\n",
    "    df: Pandas dataframe\n",
    "    statistic: valid arguments include 'mean', 'median', 'std'\n",
    "    samples: number of bootstrap samples to generate\n",
    "\n",
    "    Returns\n",
    "    -------\n",
    "    Pandas Series\n",
    "    \"\"\"\n",
    "\n",
    "    df_bootstrap = pd.DataFrame(columns=df.columns)\n",
    "    for _ in range(samples):\n",
    "        bootstrap = df.sample(n=len(df), replace=True, axis=0)\n",
    "        if statistic == 'mean':\n",
    "            df_bootstrap = df_bootstrap.append(bootstrap.mean(), ignore_index=True)\n",
    "        elif statistic == 'median':\n",
    "            df_bootstrap = df_bootstrap.append(bootstrap.median(), ignore_index=True)\n",
    "        elif statistic == 'std':\n",
    "            df_bootstrap = df_bootstrap.append(bootstrap.std(), ignore_index=True)\n",
    "        else:\n",
    "            print(\"Invalid statitic. Please use 'mean', 'median' or 'sdt'\")\n",
    "            return None\n",
    "    s = df_bootstrap.mean()\n",
    "    df = pd.DataFrame(s).reset_index()\n",
    "    df.columns = ['Feature', statistic]\n",
    "    return df"
   ]
  },
  {
   "cell_type": "code",
   "execution_count": 4,
   "metadata": {},
   "outputs": [],
   "source": [
    "def ttest(sample1, sample2, Features):\n",
    "    \"\"\"\n",
    "    Returns a dataframe with a single row containing the p values for each Feature when sample1\n",
    "    is compared against sample2. Features are columns in the dataframe.\n",
    "\n",
    "    Parameters\n",
    "    ----------\n",
    "    sample1: Pandas dataframe represting the sample transactions and their associated features.\n",
    "    sample2: Pandas dataframe represting the sample transactions and their associated features.\n",
    "    Features: List of column names from input dataframes that are to be evaluated.\n",
    "\n",
    "    Returns\n",
    "    -------\n",
    "    Pandas DataFrame\n",
    "    \"\"\"\n",
    "\n",
    "    p_lst = []\n",
    "    for f in Features:\n",
    "        stat, p_val = stats.ttest_ind(sample1[f], sample2[f], equal_var=False)  \n",
    "        p_lst.append(p_val)\n",
    "    df = pd.DataFrame(p_lst, index=Features).reset_index()\n",
    "    df.columns = ['Feature','p_val']\n",
    "    return df"
   ]
  },
  {
   "cell_type": "markdown",
   "metadata": {},
   "source": [
    "### End of Helper Functions"
   ]
  },
  {
   "cell_type": "code",
   "execution_count": 84,
   "metadata": {},
   "outputs": [],
   "source": [
    "### Plot feature ttest comparison"
   ]
  },
  {
   "cell_type": "code",
   "execution_count": 30,
   "metadata": {},
   "outputs": [],
   "source": [
    "fraud_all = data[(data['Class']==1)]\n",
    "legit_all = data[(data['Class']==0)]\n",
    "df0 = ttest(fraud_all, legit_all, Features)\n",
    "\n",
    "fraud_low = data[(data['Class']==1) & (data['Amount']<=1)]\n",
    "legit_low = data[(data['Class']==0) & (data['Amount']<=1)]\n",
    "df1 = ttest(fraud_low, legit_low, Features)\n",
    "\n",
    "fraud_high = data[(data['Class']==1) & (data['Amount']>20)]\n",
    "legit_high = data[(data['Class']==0) & (data['Amount']>20)]\n",
    "df2 = ttest(fraud_high, legit_high, Features)\n",
    "\n",
    "fraud_high = data[(data['Class']==1) & (data['Amount']<=1)]\n",
    "legit_high = data[(data['Class']==0) & (data['Amount']>1)]\n",
    "df3 = ttest(fraud_high, legit_high, Features)"
   ]
  },
  {
   "cell_type": "code",
   "execution_count": 37,
   "metadata": {},
   "outputs": [
    {
     "ename": "TypeError",
     "evalue": "'AxesSubplot' object is not subscriptable",
     "output_type": "error",
     "traceback": [
      "\u001b[0;31m---------------------------------------------------------------------------\u001b[0m",
      "\u001b[0;31mTypeError\u001b[0m                                 Traceback (most recent call last)",
      "\u001b[0;32m<ipython-input-37-cf0473ed92b7>\u001b[0m in \u001b[0;36m<module>\u001b[0;34m\u001b[0m\n\u001b[1;32m     11\u001b[0m     \u001b[0mgrp2\u001b[0m \u001b[0;34m=\u001b[0m \u001b[0mdf_legit\u001b[0m\u001b[0;34m[\u001b[0m\u001b[0mdf_legit\u001b[0m\u001b[0;34m[\u001b[0m\u001b[0;34m'Amount'\u001b[0m\u001b[0;34m]\u001b[0m\u001b[0;34m<=\u001b[0m\u001b[0;36m1\u001b[0m\u001b[0;34m]\u001b[0m\u001b[0;34m\u001b[0m\u001b[0;34m\u001b[0m\u001b[0m\n\u001b[1;32m     12\u001b[0m     \u001b[0mtitle\u001b[0m \u001b[0;34m=\u001b[0m \u001b[0;34m'p value (fraud vs. non-fraud) for transactions <= $1'\u001b[0m\u001b[0;34m\u001b[0m\u001b[0;34m\u001b[0m\u001b[0m\n\u001b[0;32m---> 13\u001b[0;31m     \u001b[0mplot_pval\u001b[0m\u001b[0;34m(\u001b[0m\u001b[0maxs\u001b[0m\u001b[0;34m[\u001b[0m\u001b[0;36m0\u001b[0m\u001b[0;34m]\u001b[0m\u001b[0;34m,\u001b[0m \u001b[0mgrp1\u001b[0m\u001b[0;34m,\u001b[0m \u001b[0mgrp2\u001b[0m\u001b[0;34m,\u001b[0m \u001b[0mFeatures\u001b[0m\u001b[0;34m,\u001b[0m \u001b[0mtitle\u001b[0m\u001b[0;34m)\u001b[0m\u001b[0;34m\u001b[0m\u001b[0;34m\u001b[0m\u001b[0m\n\u001b[0m\u001b[1;32m     14\u001b[0m \u001b[0;34m\u001b[0m\u001b[0m\n\u001b[1;32m     15\u001b[0m     \u001b[0mgrp3\u001b[0m \u001b[0;34m=\u001b[0m \u001b[0mdf_fraud\u001b[0m\u001b[0;34m[\u001b[0m\u001b[0mdf_fraud\u001b[0m\u001b[0;34m[\u001b[0m\u001b[0;34m'Amount'\u001b[0m\u001b[0;34m]\u001b[0m\u001b[0;34m>\u001b[0m\u001b[0;36m1\u001b[0m\u001b[0;34m]\u001b[0m\u001b[0;34m\u001b[0m\u001b[0;34m\u001b[0m\u001b[0m\n",
      "\u001b[0;31mTypeError\u001b[0m: 'AxesSubplot' object is not subscriptable"
     ]
    },
    {
     "data": {
      "image/png": "[encoded data removed]",
      "text/plain": [
       "<Figure size 1008x288 with 2 Axes>"
      ]
     },
     "metadata": {
      "needs_background": "light"
     },
     "output_type": "display_data"
    }
   ],
   "source": [
    "def plot_pval(ax, grp1, grp2, Features, title):\n",
    "    df = ttest(fraud_high, legit_high, Features)\n",
    "    y = df['p_val']\n",
    "    ax.bar(Features,y)\n",
    "    ax.set_ylim(0, 0.05)\n",
    "    ax.set_title(title)\n",
    "\n",
    "fig, axs = plt.subplots(2,1,figsize=(14,4))\n",
    "# bug - printing same plot 2x !!!!!!!!!!!!!!!!!!!!!!!!!!!!!!!!\n",
    "grp1 = df_fraud[df_fraud['Amount']<=1]\n",
    "grp2 = df_legit[df_legit['Amount']<=1]\n",
    "title = 'p value (fraud vs. non-fraud) for transactions <= $1'\n",
    "plot_pval(axs[0], grp1, grp2, Features, title)\n",
    "\n",
    "grp3 = df_fraud[df_fraud['Amount']>1]\n",
    "grp4 = df_legit[df_legit['Amount']>1]\n",
    "title = 'p value (fraud vs. non-fraud) for transactions > $1'\n",
    "plot_pval(axs[1], grp3, grp4, Features, title)\n",
    "plt.tight_layout()"
   ]
  },
  {
   "cell_type": "code",
   "execution_count": 18,
   "metadata": {},
   "outputs": [
    {
     "data": {
      "image/png": "[encoded data removed]",
      "text/plain": [
       "<Figure size 864x576 with 4 Axes>"
      ]
     },
     "metadata": {
      "needs_background": "light"
     },
     "output_type": "display_data"
    }
   ],
   "source": [
    "fig, axs = plt.subplots(4,1,figsize=(12,8),sharey=True)\n",
    "\n",
    "x = df1['Feature']\n",
    "y0 = df0['p_val']\n",
    "y1 = df1['p_val']\n",
    "y2 = df2['p_val']\n",
    "y3 = df3['p_val']\n",
    "\n",
    "axs[0].bar(x, y0)\n",
    "axs[1].bar(x, y1)\n",
    "axs[2].bar(x, y2)\n",
    "axs[3].bar(x, y3)\n",
    "axs[0].set_ylim(0,.05)\n",
    "\n",
    "axs[1].set_title('p value (fraud vs. non-fraud) for transactions <= $1')\n",
    "axs[2].set_title('p value (fraud vs. non-fraud) for transactions > $1')\n",
    "\n",
    "plt.tight_layout()\n",
    "# axs[1].set_ylim((0,0.01))"
   ]
  },
  {
   "cell_type": "markdown",
   "metadata": {},
   "source": [
    "## Legitimate Transaction Sample"
   ]
  },
  {
   "cell_type": "code",
   "execution_count": null,
   "metadata": {},
   "outputs": [],
   "source": [
    "# non-fraud population stats\n",
    "df_stat_legit = data[Features][data['Class']==0].agg(['mean', 'median', 'std'])\n",
    "df_stat_legit.head()"
   ]
  },
  {
   "cell_type": "code",
   "execution_count": null,
   "metadata": {},
   "outputs": [],
   "source": [
    "#non bootstrap dataset just for fun to compare\n",
    "df_stat_fraud = data[Features][data['Class']==1].agg(['mean', 'median', 'std'])\n",
    "df_stat_fraud.head()"
   ]
  },
  {
   "cell_type": "code",
   "execution_count": null,
   "metadata": {},
   "outputs": [],
   "source": [
    "df_stats_bsfraud['std'].sort_values()"
   ]
  },
  {
   "cell_type": "markdown",
   "metadata": {},
   "source": [
    "## Bootstrap Fraud Sample"
   ]
  },
  {
   "cell_type": "code",
   "execution_count": 87,
   "metadata": {},
   "outputs": [],
   "source": [
    "df_fraud = data[data['Class']==1][Features]\n",
    "df_bootstrap = bootstrap_mean(df_fraud, 'std', samples=500)\n",
    "# print(df_bootstrap)"
   ]
  },
  {
   "cell_type": "code",
   "execution_count": null,
   "metadata": {},
   "outputs": [],
   "source": [
    "### Fraud Ammount V"
   ]
  },
  {
   "cell_type": "code",
   "execution_count": null,
   "metadata": {},
   "outputs": [],
   "source": []
  }
 ],
 "metadata": {
  "kernelspec": {
   "display_name": "Python 3",
   "language": "python",
   "name": "python3"
  },
  "language_info": {
   "codemirror_mode": {
    "name": "ipython",
    "version": 3
   },
   "file_extension": ".py",
   "mimetype": "text/x-python",
   "name": "python",
   "nbconvert_exporter": "python",
   "pygments_lexer": "ipython3",
   "version": "3.7.9"
  }
 },
 "nbformat": 4,
 "nbformat_minor": 4
}
