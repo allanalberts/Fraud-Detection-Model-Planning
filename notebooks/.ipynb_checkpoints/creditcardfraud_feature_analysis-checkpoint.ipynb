{
 "cells": [
  {
   "cell_type": "markdown",
   "metadata": {},
   "source": [
    "# Feature Analysis"
   ]
  },
  {
   "cell_type": "code",
   "execution_count": 2,
   "metadata": {},
   "outputs": [],
   "source": [
    "import helpers as h\n",
    "import numpy as np\n",
    "import pandas as pd\n",
    "\n",
    "import scipy.stats as stats\n",
    "\n",
    "import matplotlib.pyplot as plt\n",
    "%matplotlib inline\n",
    "import seaborn as sns\n",
    "\n",
    "data = pd.read_csv(\"../data/creditcard.csv\")\n",
    "Features = ['V%d' % n for n in range(1, 29)]"
   ]
  },
  {
   "cell_type": "code",
   "execution_count": 63,
   "metadata": {},
   "outputs": [],
   "source": [
    "def ttest(sample1, sample2, Features):\n",
    "    \"\"\"\n",
    "    Returns a dictionary with representing features and values representing the p value \n",
    "    or probability that sample1 comes from the same distribution as sample2.\n",
    "\n",
    "    Parameters\n",
    "    ----------\n",
    "    sample1: Pandas dataframe represting the transactions and their associated features.\n",
    "    sample2: Pandas dataframe represting the transactions and their associated features.\n",
    "    Features: List of column names from input dataframes that are to be evaluated.\n",
    "\n",
    "    Returns\n",
    "    -------\n",
    "    Dictionary with key value pairs representing feature names and their associated p_val with same length as Features\n",
    "    \"\"\"\n",
    "    p_dict = {}\n",
    "##    p_lst = []\n",
    "    for f in Features:\n",
    "        stat, p_val = stats.ttest_ind(sample1[f], sample2[f], equal_var=False)  \n",
    "        p_dict[f] = [p_val] \n",
    "##        p_lst.append[p_val]\n",
    "##     df = pd.DataFrame(p_lst, columns=Features))\n",
    "#     df = pd.DataFrame.from_dict(p_dict,orient='columns')\n",
    "#     df = df2.T.reset_index()\n",
    "#     df.columns = ['Feature','p_val']  \n",
    "#     return df\n",
    "    return p_dict\n",
    "\n",
    "fraud_grp = data[(data['Class']==1) & (data['Amount']<=1)]\n",
    "legit_grp = data[(data['Class']==0) & (data['Amount']<=1)]\n",
    "ttest_dict = ttest(fraud_grp, legit_grp, Features)\n",
    "\n",
    "\n",
    "\n",
    "df2 = pd.DataFrame.from_dict(ttest_dict,orient='columns')\n",
    "df2 = df2.T.reset_index()\n",
    "df2.columns = ['Feature','p_val']\n",
    "\n",
    "\n",
    "grp1 = data[(data['Class']==1) & (data['Amount']>1)]\n",
    "grp2 = data[(data['Class']==0) & (data['Amount']>1)]\n",
    "ttest_dict = ttest(grp1, grp2, Features)\n",
    "\n",
    "df3 = pd.DataFrame.from_dict(ttest_dict,orient='columns')\n",
    "df3 = df3.T.reset_index()\n",
    "df3.columns = ['Feature','p_val']\n"
   ]
  },
  {
   "cell_type": "code",
   "execution_count": 69,
   "metadata": {},
   "outputs": [
    {
     "ename": "TypeError",
     "evalue": "unhashable type: 'slice'",
     "output_type": "error",
     "traceback": [
      "\u001b[0;31m---------------------------------------------------------------------------\u001b[0m",
      "\u001b[0;31mTypeError\u001b[0m                                 Traceback (most recent call last)",
      "\u001b[0;32m<ipython-input-69-deba27d13606>\u001b[0m in \u001b[0;36m<module>\u001b[0;34m\u001b[0m\n\u001b[0;32m----> 1\u001b[0;31m \u001b[0mprint\u001b[0m\u001b[0;34m(\u001b[0m\u001b[0mttest_dict\u001b[0m\u001b[0;34m[\u001b[0m\u001b[0;36m0\u001b[0m\u001b[0;34m,\u001b[0m\u001b[0;34m:\u001b[0m\u001b[0;34m]\u001b[0m\u001b[0;34m)\u001b[0m\u001b[0;34m\u001b[0m\u001b[0;34m\u001b[0m\u001b[0m\n\u001b[0m",
      "\u001b[0;31mTypeError\u001b[0m: unhashable type: 'slice'"
     ]
    }
   ],
   "source": []
  },
  {
   "cell_type": "code",
   "execution_count": 64,
   "metadata": {},
   "outputs": [],
   "source": [
    "# df2.sort_values('p_val', ascending=False, inplace=True)"
   ]
  },
  {
   "cell_type": "code",
   "execution_count": 68,
   "metadata": {},
   "outputs": [
    {
     "data": {
      "text/plain": [
       "Text(0.5, 1.0, 'p values for transactions > $1')"
      ]
     },
     "execution_count": 68,
     "metadata": {},
     "output_type": "execute_result"
    },
    {
     "data": {
      "image/png": "[encoded data removed]",
      "text/plain": [
       "<Figure size 864x576 with 2 Axes>"
      ]
     },
     "metadata": {
      "needs_background": "light"
     },
     "output_type": "display_data"
    }
   ],
   "source": [
    "fig, axs = plt.subplots(2,1,figsize=(12,8))\n",
    "\n",
    "x = df2['Feature']\n",
    "y1 = df2['p_val']\n",
    "y2 = df3['p_val']\n",
    "axs[0].bar(x, y1)\n",
    "axs[1].bar(x, y2)\n",
    "axs[0].set_title('p value (fraud vs. non-fraud) for transactions <= $1')\n",
    "axs[1].set_title('p value (fraud vs. non-fraud) for transactions > $1')\n",
    "axs\n",
    "# axs[1].set_ylim((0,0.01))"
   ]
  },
  {
   "cell_type": "code",
   "execution_count": 3,
   "metadata": {},
   "outputs": [
    {
     "name": "stdout",
     "output_type": "stream",
     "text": [
      "V1\n",
      "The V1 statistic is: -15.629064609674844 \n",
      "P-value: 5.491642982537676e-45\n",
      "V2\n",
      "The V2 statistic is: 18.761176823315797 \n",
      "P-value: 1.2885797612095705e-59\n",
      "V3\n",
      "The V3 statistic is: -21.976004399367977 \n",
      "P-value: 4.7860814074282e-75\n",
      "V4\n",
      "The V4 statistic is: 35.11644940739403 \n",
      "P-value: 4.587316921388562e-136\n",
      "V5\n",
      "The V5 statistic is: -13.032118672974827 \n",
      "P-value: 1.4970277071054122e-33\n",
      "V6\n",
      "The V6 statistic is: -16.706743494730443 \n",
      "P-value: 5.880377860840174e-50\n",
      "V7\n",
      "The V7 statistic is: -17.168754779170776 \n",
      "P-value: 4.2922313194412136e-52\n",
      "V8\n",
      "The V8 statistic is: 1.8651390657084321 \n",
      "P-value: 0.06275811803424974\n",
      "V9\n",
      "The V9 statistic is: -22.928480841254068 \n",
      "P-value: 1.1935046623364764e-79\n",
      "V10\n",
      "The V10 statistic is: -25.75526028732098 \n",
      "P-value: 3.382883650613494e-93\n",
      "V11\n",
      "The V11 statistic is: 31.519223172648527 \n",
      "P-value: 4.577212375356592e-120\n",
      "V12\n",
      "The V12 statistic is: -29.88002649494514 \n",
      "P-value: 1.4813165028380743e-112\n",
      "V13\n",
      "The V13 statistic is: -2.197911819035529 \n",
      "P-value: 0.028420168192532333\n",
      "V14\n",
      "The V14 statistic is: -36.201024075996244 \n",
      "P-value: 1.0401507099025376e-140\n",
      "V15\n",
      "The V15 statistic is: -1.9653685478602223 \n",
      "P-value: 0.04993336077251891\n",
      "V16\n",
      "The V16 statistic is: -23.798892084037867 \n",
      "P-value: 7.905325639437749e-84\n",
      "V17\n",
      "The V17 statistic is: -21.247726971069667 \n",
      "P-value: 1.5580938057841998e-71\n",
      "V18\n",
      "The V18 statistic is: -17.213505574351657 \n",
      "P-value: 2.6392225457940417e-52\n",
      "V19\n",
      "The V19 statistic is: 9.819276211293447 \n",
      "P-value: 6.707056605381376e-21\n",
      "V20\n",
      "The V20 statistic is: 6.1415290755504275 \n",
      "P-value: 1.6876894180533058e-09\n",
      "V21\n",
      "The V21 statistic is: 4.097655091201302 \n",
      "P-value: 4.882129855322934e-05\n",
      "V22\n",
      "The V22 statistic is: 0.20881499485853616 \n",
      "P-value: 0.8346791940015038\n",
      "V23\n",
      "The V23 statistic is: -0.5669012217496843 \n",
      "P-value: 0.5710402154248273\n",
      "V24\n",
      "The V24 statistic is: -4.525328224597574 \n",
      "P-value: 7.565212734686244e-06\n",
      "V25\n",
      "The V25 statistic is: 1.1548251524233897 \n",
      "P-value: 0.2487229218454442\n",
      "V26\n",
      "The V26 statistic is: 2.4307991752666234 \n",
      "P-value: 0.015421282726400375\n",
      "V27\n",
      "The V27 statistic is: 2.7526851298151835 \n",
      "P-value: 0.006129683626016929\n",
      "V28\n",
      "The V28 statistic is: 3.071049110767297 \n",
      "P-value: 0.0022512074332820577\n"
     ]
    }
   ],
   "source": [
    "# a low p means you cannot reject the hypothesis that the samples are from the same distribution\n",
    "    \n",
    "# need to account fof bonfori correction if measuring over differences in populations (like I will be doing with \n",
    "# the subsets of fraud population or the day1 vs day2)\n",
    "for f in Features:\n",
    "    print(f)\n",
    "    fraud_grp = data[data['Class']==1][f]\n",
    "    legit_grp = data[data['Class']==0][f]\n",
    "    stat, p_val = stats.ttest_ind(fraud_grp, legit_grp, equal_var=False)\n",
    "    print(f'The {f} statistic is: {stat} \\nP-value: {p_val}')"
   ]
  },
  {
   "cell_type": "markdown",
   "metadata": {},
   "source": [
    "## Legitimate Transaction Sample"
   ]
  },
  {
   "cell_type": "code",
   "execution_count": null,
   "metadata": {},
   "outputs": [],
   "source": [
    "df_stat_legit = data[Features][data['Class']==0].agg(['mean', 'median', 'std'])\n",
    "df_stat_legit.head()"
   ]
  },
  {
   "cell_type": "code",
   "execution_count": null,
   "metadata": {},
   "outputs": [],
   "source": [
    "df_stat_fraud = data[Features][data['Class']==1].agg(['mean', 'median', 'std'])\n",
    "df_stat_fraud.head()"
   ]
  },
  {
   "cell_type": "code",
   "execution_count": null,
   "metadata": {},
   "outputs": [],
   "source": [
    "df_stats_bsfraud['std'].sort_values()"
   ]
  },
  {
   "cell_type": "markdown",
   "metadata": {},
   "source": [
    "## Bootstrap Fraud Sample"
   ]
  },
  {
   "cell_type": "code",
   "execution_count": null,
   "metadata": {},
   "outputs": [],
   "source": [
    "#import scikits.bootstrap as sci\n",
    "df_fraud = data[Features][data['Class']==1]\n",
    "df_bootstrap_mean = pd.DataFrame(columns=df_fraud.columns)\n",
    "df_bootstrap_std = pd.DataFrame(columns=df_fraud.columns)\n",
    "df_bootstrap_median = pd.DataFrame(columns=df_fraud.columns)\n",
    "\n",
    "samples = 5000\n",
    "for _ in range(samples):\n",
    "    bootstrap = df_fraud.sample(n=len(df_fraud), replace=True, axis=0, random_state=1111)\n",
    "    df_bootstrap_mean = df_bootstrap_mean.append(bootstrap.mean(), ignore_index=True)\n",
    "    df_bootstrap_std = df_bootstrap_std.append(bootstrap.std(), ignore_index=True)\n",
    "    df_bootstrap_median = df_bootstrap_median.append(bootstrap.median(), ignore_index=True)\n",
    "bootstrap_mean = df_bootstrap_mean.mean()\n",
    "\n",
    "bootstrap_mean.head()\n",
    "# bootstrap_std = df_bootstrap_std.mean()\n",
    "# bootstrap_median = df_bootstrap_median.mean()"
   ]
  },
  {
   "cell_type": "code",
   "execution_count": null,
   "metadata": {},
   "outputs": [],
   "source": [
    "print(df_stats_bsfraud.transpose())"
   ]
  },
  {
   "cell_type": "code",
   "execution_count": 77,
   "metadata": {},
   "outputs": [],
   "source": [
    "data['Amt_round'] = data['Amount'].round()\n",
    "df5 = data[data['Class']==1].groupby('Amt_round')['Amt_round'].count()\n",
    "df5.columns = ['cnt']"
   ]
  },
  {
   "cell_type": "code",
   "execution_count": 87,
   "metadata": {},
   "outputs": [
    {
     "ename": "AttributeError",
     "evalue": "'Series' object has no attribute 'info'",
     "output_type": "error",
     "traceback": [
      "\u001b[0;31m---------------------------------------------------------------------------\u001b[0m",
      "\u001b[0;31mAttributeError\u001b[0m                            Traceback (most recent call last)",
      "\u001b[0;32m<ipython-input-87-1995fd6bb79f>\u001b[0m in \u001b[0;36m<module>\u001b[0;34m\u001b[0m\n\u001b[0;32m----> 1\u001b[0;31m \u001b[0mdf5\u001b[0m\u001b[0;34m.\u001b[0m\u001b[0minfo\u001b[0m\u001b[0;34m(\u001b[0m\u001b[0;34m)\u001b[0m\u001b[0;34m\u001b[0m\u001b[0;34m\u001b[0m\u001b[0m\n\u001b[0m",
      "\u001b[0;32m~/opt/anaconda3/lib/python3.7/site-packages/pandas/core/generic.py\u001b[0m in \u001b[0;36m__getattr__\u001b[0;34m(self, name)\u001b[0m\n\u001b[1;32m   5137\u001b[0m             \u001b[0;32mif\u001b[0m \u001b[0mself\u001b[0m\u001b[0;34m.\u001b[0m\u001b[0m_info_axis\u001b[0m\u001b[0;34m.\u001b[0m\u001b[0m_can_hold_identifiers_and_holds_name\u001b[0m\u001b[0;34m(\u001b[0m\u001b[0mname\u001b[0m\u001b[0;34m)\u001b[0m\u001b[0;34m:\u001b[0m\u001b[0;34m\u001b[0m\u001b[0;34m\u001b[0m\u001b[0m\n\u001b[1;32m   5138\u001b[0m                 \u001b[0;32mreturn\u001b[0m \u001b[0mself\u001b[0m\u001b[0;34m[\u001b[0m\u001b[0mname\u001b[0m\u001b[0;34m]\u001b[0m\u001b[0;34m\u001b[0m\u001b[0;34m\u001b[0m\u001b[0m\n\u001b[0;32m-> 5139\u001b[0;31m             \u001b[0;32mreturn\u001b[0m \u001b[0mobject\u001b[0m\u001b[0;34m.\u001b[0m\u001b[0m__getattribute__\u001b[0m\u001b[0;34m(\u001b[0m\u001b[0mself\u001b[0m\u001b[0;34m,\u001b[0m \u001b[0mname\u001b[0m\u001b[0;34m)\u001b[0m\u001b[0;34m\u001b[0m\u001b[0;34m\u001b[0m\u001b[0m\n\u001b[0m\u001b[1;32m   5140\u001b[0m \u001b[0;34m\u001b[0m\u001b[0m\n\u001b[1;32m   5141\u001b[0m     \u001b[0;32mdef\u001b[0m \u001b[0m__setattr__\u001b[0m\u001b[0;34m(\u001b[0m\u001b[0mself\u001b[0m\u001b[0;34m,\u001b[0m \u001b[0mname\u001b[0m\u001b[0;34m:\u001b[0m \u001b[0mstr\u001b[0m\u001b[0;34m,\u001b[0m \u001b[0mvalue\u001b[0m\u001b[0;34m)\u001b[0m \u001b[0;34m->\u001b[0m \u001b[0;32mNone\u001b[0m\u001b[0;34m:\u001b[0m\u001b[0;34m\u001b[0m\u001b[0;34m\u001b[0m\u001b[0m\n",
      "\u001b[0;31mAttributeError\u001b[0m: 'Series' object has no attribute 'info'"
     ]
    }
   ],
   "source": []
  },
  {
   "cell_type": "code",
   "execution_count": 83,
   "metadata": {},
   "outputs": [
    {
     "data": {
      "text/plain": [
       "<AxesSubplot:xlabel='Amt_round'>"
      ]
     },
     "execution_count": 83,
     "metadata": {},
     "output_type": "execute_result"
    },
    {
     "data": {
      "image/png": "[encoded data removed]",
      "text/plain": [
       "<Figure size 432x288 with 1 Axes>"
      ]
     },
     "metadata": {
      "needs_background": "light"
     },
     "output_type": "display_data"
    }
   ],
   "source": [
    "df5.plot.bar(x='Amt_round', y='cnt')"
   ]
  },
  {
   "cell_type": "code",
   "execution_count": 106,
   "metadata": {},
   "outputs": [
    {
     "name": "stdout",
     "output_type": "stream",
     "text": [
      "(1, 28)\n",
      "(28, 2)\n",
      "(1, 28)\n",
      "(28, 2)\n"
     ]
    }
   ],
   "source": [
    "def ttest(sample1, sample2, Features):\n",
    "    \"\"\"\n",
    "    Returns a dictionary with representing features and values representing the p value \n",
    "    or probability that sample1 comes from the same distribution as sample2.\n",
    "\n",
    "    Parameters\n",
    "    ----------\n",
    "    sample1: Pandas dataframe represting the transactions and their associated features.\n",
    "    sample2: Pandas dataframe represting the transactions and their associated features.\n",
    "    Features: List of column names from input dataframes that are to be evaluated.\n",
    "\n",
    "    Returns\n",
    "    -------\n",
    "    Dictionary with key value pairs representing feature names and their associated p_val with same length as Features\n",
    "    \"\"\"\n",
    "\n",
    "#    p_dict = {}\n",
    "    p_lst = []\n",
    "    for f in Features:\n",
    "        stat, p_val = stats.ttest_ind(sample1[f], sample2[f], equal_var=False)  \n",
    "        p_dict[f] = [p_val] \n",
    "        p_lst.append(p_val)\n",
    "#    df = pd.DataFrame.from_dict(p_dict,orient='columns')\n",
    "    df = pd.DataFrame(p_dict,orient='columns')\n",
    "    df = df.T.reset_index()\n",
    "    df.columns = ['Feature','p_val']  \n",
    "    return df\n",
    "\n",
    "fraud_grp = data[(data['Class']==1) & (data['Amount']<=1)]\n",
    "legit_grp = data[(data['Class']==0) & (data['Amount']<=1)]\n",
    "df7 = ttest(fraud_grp, legit_grp, Features)\n",
    "\n",
    "grp1 = data[(data['Class']==1) & (data['Amount']>1)]\n",
    "grp2 = data[(data['Class']==0) & (data['Amount']>1)]\n",
    "df8 = ttest(grp1, grp2, Features)\n"
   ]
  },
  {
   "cell_type": "code",
   "execution_count": 107,
   "metadata": {},
   "outputs": [
    {
     "data": {
      "text/plain": [
       "array([<AxesSubplot:title={'center':'p value (fraud vs. non-fraud) for transactions <= $1'}>,\n",
       "       <AxesSubplot:title={'center':'p value (fraud vs. non-fraud) for transactions > $1'}>],\n",
       "      dtype=object)"
      ]
     },
     "execution_count": 107,
     "metadata": {},
     "output_type": "execute_result"
    },
    {
     "data": {
      "image/png": "[encoded data removed]",
      "text/plain": [
       "<Figure size 864x576 with 2 Axes>"
      ]
     },
     "metadata": {
      "needs_background": "light"
     },
     "output_type": "display_data"
    }
   ],
   "source": [
    "fig, axs = plt.subplots(2,1,figsize=(12,8))\n",
    "\n",
    "x = df7['Feature']\n",
    "y1 = df7['p_val']\n",
    "y2 = df8['p_val']\n",
    "axs[0].bar(x, y1)\n",
    "axs[1].bar(x, y2)\n",
    "axs[0].set_title('p value (fraud vs. non-fraud) for transactions <= $1')\n",
    "axs[1].set_title('p value (fraud vs. non-fraud) for transactions > $1')\n",
    "axs"
   ]
  },
  {
   "cell_type": "code",
   "execution_count": null,
   "metadata": {},
   "outputs": [],
   "source": []
  }
 ],
 "metadata": {
  "kernelspec": {
   "display_name": "Python 3",
   "language": "python",
   "name": "python3"
  },
  "language_info": {
   "codemirror_mode": {
    "name": "ipython",
    "version": 3
   },
   "file_extension": ".py",
   "mimetype": "text/x-python",
   "name": "python",
   "nbconvert_exporter": "python",
   "pygments_lexer": "ipython3",
   "version": "3.7.9"
  }
 },
 "nbformat": 4,
 "nbformat_minor": 4
}
