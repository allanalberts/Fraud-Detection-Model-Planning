{
 "cells": [
  {
   "cell_type": "markdown",
   "metadata": {},
   "source": [
    "# Feature Analysis"
   ]
  },
  {
   "cell_type": "code",
   "execution_count": 7,
   "metadata": {},
   "outputs": [],
   "source": [
    "import helpers as h\n",
    "import numpy as np\n",
    "import pandas as pd\n",
    "\n",
    "import scipy.stats as stats\n",
    "\n",
    "import matplotlib.pyplot as plt\n",
    "%matplotlib inline\n",
    "import seaborn as sns\n",
    "\n",
    "data = pd.read_csv(\"../data/creditcard.csv\")\n",
    "Features = ['V%d' % n for n in range(1, 29)]"
   ]
  },
  {
   "cell_type": "markdown",
   "metadata": {},
   "source": [
    "### Helper Functions"
   ]
  },
  {
   "cell_type": "code",
   "execution_count": 66,
   "metadata": {},
   "outputs": [],
   "source": [
    "def bootstrap_mean(df, statistic, samples=500):\n",
    "    \"\"\"\n",
    "    Returns an pandas series of mean bootstrap values for the statistic\n",
    "    for each of the columns in the dataframe.\n",
    "\n",
    "    Parameters\n",
    "    ----------\n",
    "    df: Pandas dataframe\n",
    "    statistic: valid arguments include 'mean', 'median', 'std'\n",
    "    samples: number of bootstrap samples to generate\n",
    "\n",
    "    Returns\n",
    "    -------\n",
    "    Pandas Series\n",
    "    \"\"\"\n",
    "\n",
    "    df_bootstrap = pd.DataFrame(columns=df.columns)\n",
    "    for _ in range(samples):\n",
    "        bootstrap = df.sample(n=len(df), replace=True, axis=0)\n",
    "        if statistic == 'mean':\n",
    "            df_bootstrap = df_bootstrap.append(bootstrap.mean(), ignore_index=True)\n",
    "        elif statistic == 'median':\n",
    "            df_bootstrap = df_bootstrap.append(bootstrap.median(), ignore_index=True)\n",
    "        elif statistic == 'std':\n",
    "            df_bootstrap = df_bootstrap.append(bootstrap.std(), ignore_index=True)\n",
    "        else:\n",
    "            print(\"Invalid statitic. Please use 'mean', 'median' or 'sdt'\")\n",
    "            return None\n",
    "    df_bootstrap = df_bootstrap.mean()\n",
    "#    df_bootstrap.reset_index(inplace=True)\n",
    "    df_bootstrap.columns = ['Feature', statistic]\n",
    "    return df_bootstrap.T"
   ]
  },
  {
   "cell_type": "code",
   "execution_count": 32,
   "metadata": {},
   "outputs": [],
   "source": [
    "def ttest(sample1, sample2, Features):\n",
    "    \"\"\"\n",
    "    Returns a dataframe with a single row containing the p values for each Feature when sample1\n",
    "    is compared against sample2. Features are columns in the dataframe.\n",
    "\n",
    "    Parameters\n",
    "    ----------\n",
    "    sample1: Pandas dataframe represting the sample transactions and their associated features.\n",
    "    sample2: Pandas dataframe represting the sample transactions and their associated features.\n",
    "    Features: List of column names from input dataframes that are to be evaluated.\n",
    "\n",
    "    Returns\n",
    "    -------\n",
    "    Pandas DataFrame\n",
    "    \"\"\"\n",
    "\n",
    "    p_lst = []\n",
    "    for f in Features:\n",
    "        stat, p_val = stats.ttest_ind(sample1[f], sample2[f], equal_var=False)  \n",
    "        p_lst.append(p_val)\n",
    "    df = pd.DataFrame(p_lst, index=Features).reset_index()\n",
    "    df.columns = ['Feature','p_val']\n",
    "    return df"
   ]
  },
  {
   "cell_type": "markdown",
   "metadata": {},
   "source": [
    "### End of Helper Functions"
   ]
  },
  {
   "cell_type": "code",
   "execution_count": 35,
   "metadata": {},
   "outputs": [],
   "source": [
    "### Plot feature ttest comparison"
   ]
  },
  {
   "cell_type": "code",
   "execution_count": 36,
   "metadata": {},
   "outputs": [],
   "source": [
    "fraud_grp = data[(data['Class']==1) & (data['Amount']<=1)]\n",
    "legit_grp = data[(data['Class']==0) & (data['Amount']<=1)]\n",
    "df2 = ttest(fraud_grp, legit_grp, Features)\n",
    "\n",
    "grp1 = data[(data['Class']==1) & (data['Amount']>1)]\n",
    "grp2 = data[(data['Class']==0) & (data['Amount']>1)]\n",
    "df3 = ttest(grp1, grp2, Features)"
   ]
  },
  {
   "cell_type": "code",
   "execution_count": 37,
   "metadata": {},
   "outputs": [
    {
     "data": {
      "text/plain": [
       "array([<AxesSubplot:title={'center':'p value (fraud vs. non-fraud) for transactions <= $1'}>,\n",
       "       <AxesSubplot:title={'center':'p value (fraud vs. non-fraud) for transactions > $1'}>],\n",
       "      dtype=object)"
      ]
     },
     "execution_count": 37,
     "metadata": {},
     "output_type": "execute_result"
    },
    {
     "data": {
      "image/png": "[encoded data removed]",
      "text/plain": [
       "<Figure size 864x576 with 2 Axes>"
      ]
     },
     "metadata": {
      "needs_background": "light"
     },
     "output_type": "display_data"
    }
   ],
   "source": [
    "fig, axs = plt.subplots(2,1,figsize=(12,8))\n",
    "\n",
    "x = df2['Feature']\n",
    "y1 = df2['p_val']\n",
    "y2 = df3['p_val']\n",
    "axs[0].bar(x, y1)\n",
    "axs[1].bar(x, y2)\n",
    "axs[0].set_title('p value (fraud vs. non-fraud) for transactions <= $1')\n",
    "axs[1].set_title('p value (fraud vs. non-fraud) for transactions > $1')\n",
    "axs\n",
    "# axs[1].set_ylim((0,0.01))"
   ]
  },
  {
   "cell_type": "markdown",
   "metadata": {},
   "source": [
    "## Legitimate Transaction Sample"
   ]
  },
  {
   "cell_type": "code",
   "execution_count": null,
   "metadata": {},
   "outputs": [],
   "source": [
    "df_stat_legit = data[Features][data['Class']==0].agg(['mean', 'median', 'std'])\n",
    "df_stat_legit.head()"
   ]
  },
  {
   "cell_type": "code",
   "execution_count": null,
   "metadata": {},
   "outputs": [],
   "source": [
    "df_stat_fraud = data[Features][data['Class']==1].agg(['mean', 'median', 'std'])\n",
    "df_stat_fraud.head()"
   ]
  },
  {
   "cell_type": "code",
   "execution_count": null,
   "metadata": {},
   "outputs": [],
   "source": [
    "df_stats_bsfraud['std'].sort_values()"
   ]
  },
  {
   "cell_type": "markdown",
   "metadata": {},
   "source": [
    "## Bootstrap Fraud Sample"
   ]
  },
  {
   "cell_type": "code",
   "execution_count": 67,
   "metadata": {},
   "outputs": [],
   "source": [
    "df_fraud = data[data['Class']==1][Features]\n",
    "df_bootstrap = bootstrap_mean(df_fraud, 'std', samples=500)"
   ]
  },
  {
   "cell_type": "code",
   "execution_count": 68,
   "metadata": {},
   "outputs": [
    {
     "name": "stdout",
     "output_type": "stream",
     "text": [
      "V1     6.779913\n",
      "V2     4.286736\n",
      "V3     7.107907\n",
      "V4     2.865797\n",
      "V5     5.366362\n",
      "V6     1.853442\n",
      "V7     7.188344\n",
      "V8     6.763005\n",
      "V9     2.494802\n",
      "V10    4.887110\n",
      "V11    2.674118\n",
      "V12    4.640421\n",
      "V13    1.100942\n",
      "V14    4.271073\n",
      "V15    1.048270\n",
      "V16    3.855579\n",
      "V17    6.947186\n",
      "V18    2.889889\n",
      "V19    1.535583\n",
      "V20    1.335306\n",
      "V21    3.840230\n",
      "V22    1.487802\n",
      "V23    1.541541\n",
      "V24    0.515962\n",
      "V25    0.793847\n",
      "V26    0.470108\n",
      "V27    1.376789\n",
      "V28    0.546105\n",
      "dtype: float64\n"
     ]
    }
   ],
   "source": [
    "print(df_bootstrap)"
   ]
  },
  {
   "cell_type": "code",
   "execution_count": null,
   "metadata": {},
   "outputs": [],
   "source": [
    "#import scikits.bootstrap as sci\n",
    "df_fraud = data[Features][data['Class']==1]\n",
    "df_bootstrap_mean = pd.DataFrame(columns=df_fraud.columns)\n",
    "df_bootstrap_std = pd.DataFrame(columns=df_fraud.columns)\n",
    "df_bootstrap_median = pd.DataFrame(columns=df_fraud.columns)\n",
    "\n",
    "samples = 5000\n",
    "for _ in range(samples):\n",
    "    bootstrap = df_fraud.sample(n=len(df_fraud), replace=True, axis=0, random_state=1111)\n",
    "    df_bootstrap_mean = df_bootstrap_mean.append(bootstrap.mean(), ignore_index=True)\n",
    "    df_bootstrap_std = df_bootstrap_std.append(bootstrap.std(), ignore_index=True)\n",
    "    df_bootstrap_median = df_bootstrap_median.append(bootstrap.median(), ignore_index=True)\n",
    "bootstrap_mean = df_bootstrap_mean.mean()\n",
    "\n",
    "bootstrap_mean.head()\n",
    "# bootstrap_std = df_bootstrap_std.mean()\n",
    "# bootstrap_median = df_bootstrap_median.mean()"
   ]
  },
  {
   "cell_type": "code",
   "execution_count": null,
   "metadata": {},
   "outputs": [],
   "source": [
    "print(df_stats_bsfraud.transpose())"
   ]
  },
  {
   "cell_type": "code",
   "execution_count": 77,
   "metadata": {},
   "outputs": [],
   "source": [
    "data['Amt_round'] = data['Amount'].round()\n",
    "df5 = data[data['Class']==1].groupby('Amt_round')['Amt_round'].count()\n",
    "df5.columns = ['cnt']"
   ]
  },
  {
   "cell_type": "code",
   "execution_count": 87,
   "metadata": {},
   "outputs": [
    {
     "ename": "AttributeError",
     "evalue": "'Series' object has no attribute 'info'",
     "output_type": "error",
     "traceback": [
      "\u001b[0;31m---------------------------------------------------------------------------\u001b[0m",
      "\u001b[0;31mAttributeError\u001b[0m                            Traceback (most recent call last)",
      "\u001b[0;32m<ipython-input-87-1995fd6bb79f>\u001b[0m in \u001b[0;36m<module>\u001b[0;34m\u001b[0m\n\u001b[0;32m----> 1\u001b[0;31m \u001b[0mdf5\u001b[0m\u001b[0;34m.\u001b[0m\u001b[0minfo\u001b[0m\u001b[0;34m(\u001b[0m\u001b[0;34m)\u001b[0m\u001b[0;34m\u001b[0m\u001b[0;34m\u001b[0m\u001b[0m\n\u001b[0m",
      "\u001b[0;32m~/opt/anaconda3/lib/python3.7/site-packages/pandas/core/generic.py\u001b[0m in \u001b[0;36m__getattr__\u001b[0;34m(self, name)\u001b[0m\n\u001b[1;32m   5137\u001b[0m             \u001b[0;32mif\u001b[0m \u001b[0mself\u001b[0m\u001b[0;34m.\u001b[0m\u001b[0m_info_axis\u001b[0m\u001b[0;34m.\u001b[0m\u001b[0m_can_hold_identifiers_and_holds_name\u001b[0m\u001b[0;34m(\u001b[0m\u001b[0mname\u001b[0m\u001b[0;34m)\u001b[0m\u001b[0;34m:\u001b[0m\u001b[0;34m\u001b[0m\u001b[0;34m\u001b[0m\u001b[0m\n\u001b[1;32m   5138\u001b[0m                 \u001b[0;32mreturn\u001b[0m \u001b[0mself\u001b[0m\u001b[0;34m[\u001b[0m\u001b[0mname\u001b[0m\u001b[0;34m]\u001b[0m\u001b[0;34m\u001b[0m\u001b[0;34m\u001b[0m\u001b[0m\n\u001b[0;32m-> 5139\u001b[0;31m             \u001b[0;32mreturn\u001b[0m \u001b[0mobject\u001b[0m\u001b[0;34m.\u001b[0m\u001b[0m__getattribute__\u001b[0m\u001b[0;34m(\u001b[0m\u001b[0mself\u001b[0m\u001b[0;34m,\u001b[0m \u001b[0mname\u001b[0m\u001b[0;34m)\u001b[0m\u001b[0;34m\u001b[0m\u001b[0;34m\u001b[0m\u001b[0m\n\u001b[0m\u001b[1;32m   5140\u001b[0m \u001b[0;34m\u001b[0m\u001b[0m\n\u001b[1;32m   5141\u001b[0m     \u001b[0;32mdef\u001b[0m \u001b[0m__setattr__\u001b[0m\u001b[0;34m(\u001b[0m\u001b[0mself\u001b[0m\u001b[0;34m,\u001b[0m \u001b[0mname\u001b[0m\u001b[0;34m:\u001b[0m \u001b[0mstr\u001b[0m\u001b[0;34m,\u001b[0m \u001b[0mvalue\u001b[0m\u001b[0;34m)\u001b[0m \u001b[0;34m->\u001b[0m \u001b[0;32mNone\u001b[0m\u001b[0;34m:\u001b[0m\u001b[0;34m\u001b[0m\u001b[0;34m\u001b[0m\u001b[0m\n",
      "\u001b[0;31mAttributeError\u001b[0m: 'Series' object has no attribute 'info'"
     ]
    }
   ],
   "source": []
  },
  {
   "cell_type": "code",
   "execution_count": 83,
   "metadata": {},
   "outputs": [
    {
     "data": {
      "text/plain": [
       "<AxesSubplot:xlabel='Amt_round'>"
      ]
     },
     "execution_count": 83,
     "metadata": {},
     "output_type": "execute_result"
    },
    {
     "data": {
      "image/png": "[encoded data removed]",
      "text/plain": [
       "<Figure size 432x288 with 1 Axes>"
      ]
     },
     "metadata": {
      "needs_background": "light"
     },
     "output_type": "display_data"
    }
   ],
   "source": [
    "df5.plot.bar(x='Amt_round', y='cnt')"
   ]
  },
  {
   "cell_type": "code",
   "execution_count": null,
   "metadata": {},
   "outputs": [],
   "source": []
  }
 ],
 "metadata": {
  "kernelspec": {
   "display_name": "Python 3",
   "language": "python",
   "name": "python3"
  },
  "language_info": {
   "codemirror_mode": {
    "name": "ipython",
    "version": 3
   },
   "file_extension": ".py",
   "mimetype": "text/x-python",
   "name": "python",
   "nbconvert_exporter": "python",
   "pygments_lexer": "ipython3",
   "version": "3.7.9"
  }
 },
 "nbformat": 4,
 "nbformat_minor": 4
}
