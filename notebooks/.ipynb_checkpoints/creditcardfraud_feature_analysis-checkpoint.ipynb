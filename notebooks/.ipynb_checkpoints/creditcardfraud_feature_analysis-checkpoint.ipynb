{
 "cells": [
  {
   "cell_type": "markdown",
   "metadata": {},
   "source": [
    "# Feature Analysis"
   ]
  },
  {
   "cell_type": "code",
   "execution_count": 18,
   "metadata": {},
   "outputs": [],
   "source": [
    "import helpers as h\n",
    "import numpy as np\n",
    "import pandas as pd\n",
    "\n",
    "import scipy.stats as stats\n",
    "\n",
    "import matplotlib.pyplot as plt\n",
    "%matplotlib inline\n",
    "import seaborn as sns\n",
    "\n",
    "data = pd.read_csv(\"../data/creditcard.csv\")\n",
    "Features = ['V%d' % n for n in range(1, 29)]\n",
    "df_fraud = data[data['Class']==1]\n",
    "df_legit = data[data['Class']==0]"
   ]
  },
  {
   "cell_type": "markdown",
   "metadata": {},
   "source": [
    "### Helper Functions"
   ]
  },
  {
   "cell_type": "code",
   "execution_count": 2,
   "metadata": {},
   "outputs": [],
   "source": [
    "def bootstrap_mean(df, statistic, samples=500):\n",
    "    \"\"\"\n",
    "    Returns an pandas series of mean bootstrap values for the statistic\n",
    "    for each of the columns in the dataframe.\n",
    "\n",
    "    Parameters\n",
    "    ----------\n",
    "    df: Pandas dataframe\n",
    "    statistic: valid arguments include 'mean', 'median', 'std'\n",
    "    samples: number of bootstrap samples to generate\n",
    "\n",
    "    Returns\n",
    "    -------\n",
    "    Pandas Series\n",
    "    \"\"\"\n",
    "\n",
    "    df_bootstrap = pd.DataFrame(columns=df.columns)\n",
    "    for _ in range(samples):\n",
    "        bootstrap = df.sample(n=len(df), replace=True, axis=0)\n",
    "        if statistic == 'mean':\n",
    "            df_bootstrap = df_bootstrap.append(bootstrap.mean(), ignore_index=True)\n",
    "        elif statistic == 'median':\n",
    "            df_bootstrap = df_bootstrap.append(bootstrap.median(), ignore_index=True)\n",
    "        elif statistic == 'std':\n",
    "            df_bootstrap = df_bootstrap.append(bootstrap.std(), ignore_index=True)\n",
    "        else:\n",
    "            print(\"Invalid statitic. Please use 'mean', 'median' or 'sdt'\")\n",
    "            return None\n",
    "    s = df_bootstrap.mean()\n",
    "    df = pd.DataFrame(s).reset_index()\n",
    "    df.columns = ['Feature', statistic]\n",
    "    return df"
   ]
  },
  {
   "cell_type": "code",
   "execution_count": 3,
   "metadata": {},
   "outputs": [],
   "source": [
    "def ttest(sample1, sample2, Features):\n",
    "    \"\"\"\n",
    "    Returns a dataframe with a single row containing the p values for each Feature when sample1\n",
    "    is compared against sample2. Features are columns in the dataframe.\n",
    "\n",
    "    Parameters\n",
    "    ----------\n",
    "    sample1: Pandas dataframe represting the sample transactions and their associated features.\n",
    "    sample2: Pandas dataframe represting the sample transactions and their associated features.\n",
    "    Features: List of column names from input dataframes that are to be evaluated.\n",
    "\n",
    "    Returns\n",
    "    -------\n",
    "    Pandas DataFrame\n",
    "    \"\"\"\n",
    "\n",
    "    p_lst = []\n",
    "    for f in Features:\n",
    "        stat, p_val = stats.ttest_ind(sample1[f], sample2[f], equal_var=False)  \n",
    "        p_lst.append(p_val)\n",
    "    df = pd.DataFrame(p_lst, index=Features).reset_index()\n",
    "    df.columns = ['Feature','p_val']\n",
    "    return df"
   ]
  },
  {
   "cell_type": "markdown",
   "metadata": {},
   "source": [
    "### End of Helper Functions"
   ]
  },
  {
   "cell_type": "code",
   "execution_count": 4,
   "metadata": {},
   "outputs": [],
   "source": [
    "### Plot feature ttest comparison"
   ]
  },
  {
   "cell_type": "code",
   "execution_count": 30,
   "metadata": {},
   "outputs": [],
   "source": [
    "fraud_all = data[(data['Class']==1)]\n",
    "legit_all = data[(data['Class']==0)]\n",
    "df0 = ttest(fraud_all, legit_all, Features)\n",
    "\n",
    "fraud_low = data[(data['Class']==1) & (data['Amount']<=1)]\n",
    "legit_low = data[(data['Class']==0) & (data['Amount']<=1)]\n",
    "df1 = ttest(fraud_low, legit_low, Features)\n",
    "\n",
    "fraud_high = data[(data['Class']==1) & (data['Amount']>20)]\n",
    "legit_high = data[(data['Class']==0) & (data['Amount']>20)]\n",
    "df2 = ttest(fraud_high, legit_high, Features)\n",
    "\n",
    "fraud_high = data[(data['Class']==1) & (data['Amount']<=1)]\n",
    "legit_high = data[(data['Class']==0) & (data['Amount']>1)]\n",
    "df3 = ttest(fraud_high, legit_high, Features)"
   ]
  },
  {
   "cell_type": "code",
   "execution_count": 37,
   "metadata": {},
   "outputs": [
    {
     "data": {
      "image/png": "[encoded data removed]",
      "text/plain": [
       "<Figure size 1008x288 with 2 Axes>"
      ]
     },
     "metadata": {
      "needs_background": "light"
     },
     "output_type": "display_data"
    }
   ],
   "source": [
    "def plot_pval(ax, grp1, grp2, Features, title):\n",
    "    df = ttest(grp1, grp2, Features)\n",
    "    y = df['p_val']\n",
    "    ax.bar(Features,y)\n",
    "    ax.set_ylim(0, 0.05)\n",
    "    ax.set_title(title)\n",
    "\n",
    "fig, axs = plt.subplots(2,1,figsize=(14,4))\n",
    "grp1 = df_fraud[df_fraud['Amount']<=1]\n",
    "grp2 = df_legit[df_legit['Amount']<=1]\n",
    "title = 'p value (fraud vs. non-fraud) for transactions <= $1'\n",
    "axs[0].set_ylabel(\"p-value\")\n",
    "axs[1].set_ylabel(\"p-value\")\n",
    "axs[1].set_xlabel(\"Features\")\n",
    "plot_pval(axs[0], grp1, grp2, Features, title)\n",
    "\n",
    "grp3 = df_fraud[df_fraud['Amount']>1]\n",
    "grp4 = df_legit[df_legit['Amount']>1]\n",
    "title = 'Feature p value (fraud vs. non-fraud) for transactions > $1'\n",
    "plot_pval(axs[1], grp3, grp4, Features, title)\n",
    "plt.tight_layout()\n",
    "fig.savefig(\"../img/features_pval.png\")"
   ]
  },
  {
   "cell_type": "code",
   "execution_count": 7,
   "metadata": {},
   "outputs": [],
   "source": [
    "fraud_low = data[(data['Class']==1) & (data['Amount']<=1)]\n",
    "legit_low = data[(data['Class']==0) & (data['Amount']<=1)]\n",
    "df1 = ttest(fraud_low, legit_low, Features)"
   ]
  },
  {
   "cell_type": "code",
   "execution_count": 38,
   "metadata": {},
   "outputs": [
    {
     "name": "stdout",
     "output_type": "stream",
     "text": [
      "Relevenant Features for Both models: \r\n",
      "['V1', 'V2', 'V3', 'V4', 'V5', 'V6', 'V7', 'V9', 'V10', 'V11', 'V12', 'V14', 'V16', 'V17', 'V18', 'V20']\n",
      "\n",
      "Additional Features for Low Amount model only: ['V13', 'V15', 'V24', 'V26', 'V28']\n",
      "\n",
      "Additional Features for High Amount model only: ['V8', 'V19', 'V21']\n"
     ]
    }
   ],
   "source": [
    "\n",
    "\n",
    "amt_threshold = 1.00\n",
    "p_thresh = 0.01\n",
    "\n",
    "fraud_sample_low = data[(data['Class']==1) & (data['Amount']<=amt_threshold)]\n",
    "legit_sample_low = data[(data['Class']==0) & (data['Amount']<=amt_threshold)]\n",
    "\n",
    "fraud_sample_high = data[(data['Class']==1) & (data['Amount']>amt_threshold)]\n",
    "legit_sample_high = data[(data['Class']==0) & (data['Amount']>amt_threshold)]\n",
    "\n",
    "def relevant_features(fraud_sample, legit_sample, Features, p_thresh):\n",
    "    low_p_features = []\n",
    "    for f in Features:\n",
    "        stat, p_val = stats.ttest_ind(fraud_sample[f], legit_sample[f], equal_var=False) \n",
    "        if p_val < p_thresh:\n",
    "            low_p_features.append(f)\n",
    "    return low_p_features\n",
    "\n",
    "def recommended_features(fraud_sample_low, legit_sample_low, fraud_sample_high, legit_sample_high ):\n",
    "    low_amt_f = relevant_features(fraud_sample_low, legit_sample_low, Features, p_thresh)\n",
    "    high_amt_f = relevant_features(fraud_sample_high, legit_sample_high, Features, p_thresh)\n",
    "    \n",
    "    both = [x for x in low_amt_f if x in high_amt_f]\n",
    "    low_only = [x for x in low_amt_f if x not in high_amt_f]\n",
    "    high_only = [x for x in high_amt_f if x not in low_amt_f]                    \n",
    "                        \n",
    "    print(f'Relevenant Features for Both models: \\r\\n{both}')\n",
    "    print(f'\\nAdditional Features for Low Amount model only: {low_only}')\n",
    "    print(f'\\nAdditional Features for High Amount model only: {high_only}')\n",
    "    return None\n",
    "\n",
    "recommended_features(fraud_sample_low, legit_sample_low, fraud_sample_high, legit_sample_high )"
   ]
  },
  {
   "cell_type": "code",
   "execution_count": null,
   "metadata": {},
   "outputs": [],
   "source": [
    "def predictors(grp1, grp2, Features):\n",
    "    df1 = ttest(fraud_low, legit_low, Features)"
   ]
  },
  {
   "cell_type": "markdown",
   "metadata": {},
   "source": [
    "## Legitimate Transaction Sample"
   ]
  },
  {
   "cell_type": "code",
   "execution_count": null,
   "metadata": {},
   "outputs": [],
   "source": [
    "# non-fraud population stats\n",
    "df_stat_legit = data[Features][data['Class']==0].agg(['mean', 'median', 'std'])\n",
    "df_stat_legit.head()"
   ]
  },
  {
   "cell_type": "code",
   "execution_count": null,
   "metadata": {},
   "outputs": [],
   "source": [
    "#non bootstrap dataset just for fun to compare\n",
    "df_stat_fraud = data[Features][data['Class']==1].agg(['mean', 'median', 'std'])\n",
    "df_stat_fraud.head()"
   ]
  },
  {
   "cell_type": "code",
   "execution_count": null,
   "metadata": {},
   "outputs": [],
   "source": [
    "df_stats_bsfraud['std'].sort_values()"
   ]
  },
  {
   "cell_type": "markdown",
   "metadata": {},
   "source": [
    "## Bootstrap Fraud Sample"
   ]
  },
  {
   "cell_type": "code",
   "execution_count": 87,
   "metadata": {},
   "outputs": [],
   "source": [
    "df_fraud = data[data['Class']==1][Features]\n",
    "df_bootstrap = bootstrap_mean(df_fraud, 'std', samples=500)\n",
    "# print(df_bootstrap)"
   ]
  },
  {
   "cell_type": "code",
   "execution_count": null,
   "metadata": {},
   "outputs": [],
   "source": [
    "### Fraud Ammount V"
   ]
  },
  {
   "cell_type": "code",
   "execution_count": null,
   "metadata": {},
   "outputs": [],
   "source": []
  }
 ],
 "metadata": {
  "kernelspec": {
   "display_name": "Python 3",
   "language": "python",
   "name": "python3"
  },
  "language_info": {
   "codemirror_mode": {
    "name": "ipython",
    "version": 3
   },
   "file_extension": ".py",
   "mimetype": "text/x-python",
   "name": "python",
   "nbconvert_exporter": "python",
   "pygments_lexer": "ipython3",
   "version": "3.7.9"
  }
 },
 "nbformat": 4,
 "nbformat_minor": 4
}
